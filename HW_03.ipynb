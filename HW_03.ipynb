{
 "cells": [
  {
   "cell_type": "code",
   "execution_count": 1,
   "metadata": {
    "colab": {},
    "colab_type": "code",
    "id": "zhwkeWtb1O0w"
   },
   "outputs": [],
   "source": [
    "import numpy as np\n",
    "import matplotlib.pyplot as plt"
   ]
  },
  {
   "cell_type": "code",
   "execution_count": 2,
   "metadata": {
    "colab": {},
    "colab_type": "code",
    "id": "FeKFn2yb1To4"
   },
   "outputs": [],
   "source": [
    "X = np.array([[1, 1, 1, 1, 1, 1, 1, 1, 1, 1],\n",
    "              [1, 1, 2, 1, 3, 0, 5, 10, 1, 2],\n",
    "              [500, 700, 750, 600, 1450,\n",
    "               800, 1500, 2000, 450, 1000],\n",
    "              [1, 1, 2, 1, 2, \n",
    "               1, 3, 3, 1, 2]], dtype = np.float64)\n",
    "y = np.array([0, 0, 1, 0, 1, 0, 1, 0, 1, 1], dtype = np.float64)"
   ]
  },
  {
   "cell_type": "code",
   "execution_count": 3,
   "metadata": {
    "colab": {
     "base_uri": "https://localhost:8080/",
     "height": 155
    },
    "colab_type": "code",
    "id": "yXSj4nbxHsFd",
    "outputId": "8d102d54-94bf-4acc-d5b8-d60da152b953"
   },
   "outputs": [
    {
     "data": {
      "text/plain": [
       "array([[1.00e+00, 1.00e+00, 1.00e+00, 1.00e+00, 1.00e+00, 1.00e+00,\n",
       "        1.00e+00, 1.00e+00, 1.00e+00, 1.00e+00],\n",
       "       [1.00e+00, 1.00e+00, 2.00e+00, 1.00e+00, 3.00e+00, 0.00e+00,\n",
       "        5.00e+00, 1.00e+01, 1.00e+00, 2.00e+00],\n",
       "       [5.00e+02, 7.00e+02, 7.50e+02, 6.00e+02, 1.45e+03, 8.00e+02,\n",
       "        1.50e+03, 2.00e+03, 4.50e+02, 1.00e+03],\n",
       "       [1.00e+00, 1.00e+00, 2.00e+00, 1.00e+00, 2.00e+00, 1.00e+00,\n",
       "        3.00e+00, 3.00e+00, 1.00e+00, 2.00e+00]])"
      ]
     },
     "execution_count": 3,
     "metadata": {},
     "output_type": "execute_result"
    }
   ],
   "source": [
    "X"
   ]
  },
  {
   "cell_type": "code",
   "execution_count": 4,
   "metadata": {
    "colab": {
     "base_uri": "https://localhost:8080/",
     "height": 34
    },
    "colab_type": "code",
    "id": "QU0A16vZHugZ",
    "outputId": "71d74b95-77f4-41a7-e339-c9e7b2004e4b"
   },
   "outputs": [
    {
     "data": {
      "text/plain": [
       "array([0., 0., 1., 0., 1., 0., 1., 0., 1., 1.])"
      ]
     },
     "execution_count": 4,
     "metadata": {},
     "output_type": "execute_result"
    }
   ],
   "source": [
    "y"
   ]
  },
  {
   "cell_type": "code",
   "execution_count": 5,
   "metadata": {
    "colab": {},
    "colab_type": "code",
    "id": "M-aO1NTxOUfo"
   },
   "outputs": [],
   "source": [
    "def calc_std_feat(x):\n",
    "  res = (x - x.mean()) / x.std()\n",
    "  return res"
   ]
  },
  {
   "cell_type": "code",
   "execution_count": 6,
   "metadata": {
    "colab": {},
    "colab_type": "code",
    "id": "D8EL0iGJOVpe"
   },
   "outputs": [],
   "source": [
    "X_st = X.copy()\n",
    "X_st[2, :] = calc_std_feat(X[2, :])"
   ]
  },
  {
   "cell_type": "code",
   "execution_count": 7,
   "metadata": {
    "colab": {
     "base_uri": "https://localhost:8080/",
     "height": 155
    },
    "colab_type": "code",
    "id": "gviMxz7EOuI3",
    "outputId": "af9a2576-f4d7-41d7-e216-46e0a068cfad"
   },
   "outputs": [
    {
     "data": {
      "text/plain": [
       "array([[ 1.        ,  1.        ,  1.        ,  1.        ,  1.        ,\n",
       "         1.        ,  1.        ,  1.        ,  1.        ,  1.        ],\n",
       "       [ 1.        ,  1.        ,  2.        ,  1.        ,  3.        ,\n",
       "         0.        ,  5.        , 10.        ,  1.        ,  2.        ],\n",
       "       [-0.97958969, -0.56713087, -0.46401617, -0.77336028,  0.97958969,\n",
       "        -0.36090146,  1.08270439,  2.11385144, -1.08270439,  0.05155735],\n",
       "       [ 1.        ,  1.        ,  2.        ,  1.        ,  2.        ,\n",
       "         1.        ,  3.        ,  3.        ,  1.        ,  2.        ]])"
      ]
     },
     "execution_count": 7,
     "metadata": {},
     "output_type": "execute_result"
    }
   ],
   "source": [
    "X_st"
   ]
  },
  {
   "cell_type": "markdown",
   "metadata": {},
   "source": [
    "#### Задание 1\n",
    "1*. Измените функцию calc_logloss так, чтобы нули по возможности не попадали в np.log."
   ]
  },
  {
   "cell_type": "code",
   "execution_count": 8,
   "metadata": {
    "colab": {},
    "colab_type": "code",
    "id": "qMR5pOA38dDw"
   },
   "outputs": [],
   "source": [
    "def calc_logloss(y, y_pred, salt = 1e-10):\n",
    "    # добавим сравнение на экстримальные для логарифма значения и исправим если нужно\n",
    "    pred = np.minimum(np.maximum(y_pred, salt), 1 - salt)\n",
    "    #print(pred)\n",
    "    err = - np.mean(y * np.log(pred) + (1.0 - y) * np.log(1.0 - pred))\n",
    "    err = np.sum(err)\n",
    "    return err"
   ]
  },
  {
   "cell_type": "code",
   "execution_count": 9,
   "metadata": {
    "colab": {
     "base_uri": "https://localhost:8080/",
     "height": 34
    },
    "colab_type": "code",
    "id": "R6zfOHMrBvnX",
    "outputId": "46df0625-963f-4401-da30-b5b42bcf1be7"
   },
   "outputs": [
    {
     "data": {
      "text/plain": [
       "1.000000082790371e-10"
      ]
     },
     "execution_count": 9,
     "metadata": {},
     "output_type": "execute_result"
    }
   ],
   "source": [
    "# Пример применения\n",
    "y1 = np.array([1, 0])\n",
    "y_pred1 = np.array([1-1e-11, 1e-11])\n",
    "calc_logloss(y1, y_pred1)"
   ]
  },
  {
   "cell_type": "code",
   "execution_count": 10,
   "metadata": {
    "colab": {},
    "colab_type": "code",
    "id": "EEF9rWPNDnss"
   },
   "outputs": [],
   "source": [
    "def sigmoid(z):\n",
    "  res = 1 / (1 + np.exp(-z))\n",
    "  return res"
   ]
  },
  {
   "cell_type": "code",
   "execution_count": 11,
   "metadata": {
    "colab": {},
    "colab_type": "code",
    "id": "_9tN8lBEEeXU"
   },
   "outputs": [],
   "source": [
    "z = np.linspace(-10, 10, 101)"
   ]
  },
  {
   "cell_type": "code",
   "execution_count": 12,
   "metadata": {
    "colab": {},
    "colab_type": "code",
    "id": "nvIe3RpbEp4l"
   },
   "outputs": [],
   "source": [
    "probabilities = sigmoid(z)"
   ]
  },
  {
   "cell_type": "code",
   "execution_count": 13,
   "metadata": {
    "colab": {
     "base_uri": "https://localhost:8080/",
     "height": 283
    },
    "colab_type": "code",
    "id": "jQsCfht0Et1V",
    "outputId": "687fdef8-c8f3-4c59-baa4-5e3fab7f67c1"
   },
   "outputs": [
    {
     "data": {
      "text/plain": [
       "[<matplotlib.lines.Line2D at 0x27329d76908>]"
      ]
     },
     "execution_count": 13,
     "metadata": {},
     "output_type": "execute_result"
    },
    {
     "data": {
      "image/png": "[encoded data removed]",
      "text/plain": [
       "<Figure size 432x288 with 1 Axes>"
      ]
     },
     "metadata": {
      "needs_background": "light"
     },
     "output_type": "display_data"
    }
   ],
   "source": [
    "plt.plot(z, probabilities)"
   ]
  },
  {
   "cell_type": "code",
   "execution_count": 14,
   "metadata": {
    "colab": {},
    "colab_type": "code",
    "id": "e6TH-mkPItb6"
   },
   "outputs": [],
   "source": [
    "### Logistic Regression"
   ]
  },
  {
   "cell_type": "code",
   "execution_count": 15,
   "metadata": {
    "colab": {},
    "colab_type": "code",
    "id": "qtgUN3LW-UIq"
   },
   "outputs": [],
   "source": [
    "def eval_model(X, y, iterations, alpha=1e-4):\n",
    "  np.random.seed(42)\n",
    "  W = np.random.randn(X.shape[0])\n",
    "  n = X.shape[1]\n",
    "  for i in range(1, iterations+1):\n",
    "    z = np.dot(W, X)\n",
    "    y_pred = sigmoid(z)\n",
    "    err = calc_logloss(y, y_pred)\n",
    "    W -= alpha * (1/n * np.dot((y_pred - y), X.T))\n",
    "    if i % (iterations / 10) == 0:\n",
    "      print(i, W, err)\n",
    "  return W"
   ]
  },
  {
   "cell_type": "markdown",
   "metadata": {},
   "source": [
    "#### Задание 2\n",
    "\n",
    "Подберите аргументы функции eval_model для логистической регрессии таким образом, чтобы log loss был минимальным."
   ]
  },
  {
   "cell_type": "code",
   "execution_count": 16,
   "metadata": {
    "colab": {
     "base_uri": "https://localhost:8080/",
     "height": 190
    },
    "colab_type": "code",
    "id": "oqX7loklBmYZ",
    "outputId": "f4849295-1f14-40d8-c8f2-d1b002e130c5"
   },
   "outputs": [
    {
     "name": "stderr",
     "output_type": "stream",
     "text": [
      "c:\\users\\vokiv\\appdata\\local\\programs\\python\\python37\\lib\\site-packages\\ipykernel_launcher.py:2: RuntimeWarning: overflow encountered in exp\n",
      "  \n"
     ]
    },
    {
     "name": "stdout",
     "output_type": "stream",
     "text": [
      "10000 [-13368.8287807   -1910.67363311  -2860.99915253  12292.03788249] 1.000000082790371e-10\n",
      "20000 [-13368.8287807   -1910.67363311  -2860.99915253  12292.03788249] 1.000000082790371e-10\n",
      "30000 [-13368.8287807   -1910.67363311  -2860.99915253  12292.03788249] 1.000000082790371e-10\n",
      "40000 [-13368.8287807   -1910.67363311  -2860.99915253  12292.03788249] 1.000000082790371e-10\n",
      "50000 [-13368.8287807   -1910.67363311  -2860.99915253  12292.03788249] 1.000000082790371e-10\n",
      "60000 [-13368.8287807   -1910.67363311  -2860.99915253  12292.03788249] 1.000000082790371e-10\n",
      "70000 [-13368.8287807   -1910.67363311  -2860.99915253  12292.03788249] 1.000000082790371e-10\n",
      "80000 [-13368.8287807   -1910.67363311  -2860.99915253  12292.03788249] 1.000000082790371e-10\n",
      "90000 [-13368.8287807   -1910.67363311  -2860.99915253  12292.03788249] 1.000000082790371e-10\n",
      "100000 [-13368.8287807   -1910.67363311  -2860.99915253  12292.03788249] 1.000000082790371e-10\n"
     ]
    }
   ],
   "source": [
    "W = eval_model(X_st, y, iterations=int(1e5), alpha=2099)\n",
    "#W = eval_model(X_st, y, iterations=293050, alpha=1e-1)\n",
    "#W = eval_model(X_st, y, iterations=590000, alpha=5e-2)"
   ]
  },
  {
   "cell_type": "markdown",
   "metadata": {},
   "source": [
    "#### Задание 6\n",
    " Могла ли модель переобучиться? Почему?\n",
    " \n",
    " Ответ: судя по коэффициентам - могла и переобучилась. Потомучто нет штрафов за большие коэффициенты - необходима регуляризация"
   ]
  },
  {
   "cell_type": "markdown",
   "metadata": {},
   "source": [
    "#### Задание 7\n",
    "\n",
    "Создайте функции eval_model_l1 и eval_model_l2 с применением L1 и L2 регуляризаций соответственно."
   ]
  },
  {
   "cell_type": "code",
   "execution_count": 17,
   "metadata": {},
   "outputs": [],
   "source": [
    "def eval_model_l1(X, y, iterations, alpha=1e-4, lambda_=1e-8):\n",
    "  np.random.seed(42)\n",
    "  W = np.random.randn(X.shape[0])\n",
    "  n = X.shape[1]\n",
    "  for i in range(1, iterations+1):\n",
    "    z = np.dot(W, X)\n",
    "    y_pred = sigmoid(z)\n",
    "    err = calc_logloss(y, y_pred)\n",
    "    W -= alpha * (1/n * np.dot((y_pred - y), X.T)+ lambda_ * np.sign(W))\n",
    "    if i % (iterations / 10) == 0:\n",
    "      print(i, W, err)\n",
    "  return W"
   ]
  },
  {
   "cell_type": "code",
   "execution_count": 18,
   "metadata": {},
   "outputs": [
    {
     "name": "stderr",
     "output_type": "stream",
     "text": [
      "c:\\users\\vokiv\\appdata\\local\\programs\\python\\python37\\lib\\site-packages\\ipykernel_launcher.py:2: RuntimeWarning: overflow encountered in exp\n",
      "  \n"
     ]
    },
    {
     "name": "stdout",
     "output_type": "stream",
     "text": [
      "10000 [-5328.12167521  -824.95750754 -1182.76682643  4887.15548299] 1.178729967027036e-07\n",
      "20000 [-5328.22680253  -824.50731373 -1182.86660191  4886.87055567] 8.889392345209481e-08\n",
      "30000 [-5328.26463132  -824.12434689 -1182.94214091  4886.65292689] 7.132272721383742e-08\n",
      "40000 [-5328.27618783  -823.79331024 -1182.98967825  4886.46157037] 5.939600151515928e-08\n",
      "50000 [-5328.27066214  -823.49931983 -1183.01664048  4886.28729606] 5.077150790218985e-08\n",
      "60000 [-5328.25266771  -823.23281702 -1183.02826209  4886.12549049] 4.424549701777603e-08\n",
      "70000 [-5328.22510672  -822.98748745 -1183.02805337  4885.97325148] 3.913581222360188e-08\n",
      "80000 [-5328.18996328  -822.75896254 -1183.01845151  4885.82859492] 3.5027041593797105e-08\n",
      "90000 [-5328.14866075  -822.54409749 -1183.00121275  4885.69009745] 3.165175685241165e-08\n",
      "100000 [-5328.10225638  -822.34055367 -1182.97764356  4885.55670183] 2.883000824585273e-08\n"
     ]
    }
   ],
   "source": [
    "W = eval_model_l1(X_st, y, iterations=int(1e5), alpha=899)"
   ]
  },
  {
   "cell_type": "code",
   "execution_count": 19,
   "metadata": {},
   "outputs": [],
   "source": [
    "def eval_model_l2(X, y, iterations, alpha=1e-4, lambda_=1e-8):\n",
    "  np.random.seed(42)\n",
    "  W = np.random.randn(X.shape[0])\n",
    "  n = X.shape[1]\n",
    "  for i in range(1, iterations+1):\n",
    "    z = np.dot(W, X)\n",
    "    y_pred = sigmoid(z)\n",
    "    err = calc_logloss(y, y_pred)\n",
    "    W -= alpha * (1/n * np.dot((y_pred - y), X.T) + lambda_ * W)\n",
    "    if i % (iterations / 10) == 0:\n",
    "      print(i, W, err)\n",
    "  return W"
   ]
  },
  {
   "cell_type": "code",
   "execution_count": 20,
   "metadata": {},
   "outputs": [
    {
     "name": "stderr",
     "output_type": "stream",
     "text": [
      "c:\\users\\vokiv\\appdata\\local\\programs\\python\\python37\\lib\\site-packages\\ipykernel_launcher.py:2: RuntimeWarning: overflow encountered in exp\n",
      "  \n"
     ]
    },
    {
     "name": "stdout",
     "output_type": "stream",
     "text": [
      "10000 [-604.9430632   -81.39169582 -139.73542947  542.25819844] 0.00014909744399996182\n",
      "20000 [-600.76347112  -82.2049321  -143.48888377  535.02294157] 0.0001225681261737335\n",
      "30000 [-596.28223166  -82.8360965  -146.36940216  528.20291177] 0.0001056056976975472\n",
      "40000 [-591.64777788  -83.29633867 -148.67773939  521.64854586] 9.374605229362925e-05\n",
      "50000 [-586.92329544  -83.62494233 -150.57577686  515.29553928] 8.500444309333745e-05\n",
      "60000 [-582.14510799  -83.85257835 -152.16482098  509.10646062] 7.831762919167778e-05\n",
      "70000 [-577.33681632  -84.00144731 -153.51325149  503.05661241] 7.305808827653406e-05\n",
      "80000 [-572.51483428  -84.08740091 -154.66917506  497.12868615] 6.883327188698506e-05\n",
      "90000 [-567.73721647  -83.76839605 -155.23337849  491.46371377] 6.761117271712283e-05\n",
      "100000 [-563.17907171  -82.2665438  -154.30654125  486.3622145 ] 7.108070489081383e-05\n"
     ]
    }
   ],
   "source": [
    "W = eval_model_l2(X_st, y, iterations=int(1e5), alpha=100)"
   ]
  },
  {
   "cell_type": "code",
   "execution_count": 21,
   "metadata": {
    "colab": {},
    "colab_type": "code",
    "id": "jp0AQlnkRBWC"
   },
   "outputs": [],
   "source": [
    "#from sklearn.linear_model import LogisticRegression as LR"
   ]
  },
  {
   "cell_type": "markdown",
   "metadata": {},
   "source": [
    "####  Задание 3. \n",
    "\n",
    "Создайте функцию calc_pred_proba, возвращающую предсказанную вероятность класса 1 (на вход подаются W, который уже посчитан функцией eval_model и X, на выходе - массив y_pred_proba)."
   ]
  },
  {
   "cell_type": "code",
   "execution_count": 22,
   "metadata": {},
   "outputs": [],
   "source": [
    "def calc_pred_proba(W, X):\n",
    "    return sigmoid(W.T@X)"
   ]
  },
  {
   "cell_type": "code",
   "execution_count": 23,
   "metadata": {},
   "outputs": [
    {
     "data": {
      "text/plain": [
       "array([3.60988216e-004, 8.25918065e-032, 1.00000000e+000, 5.46126684e-018,\n",
       "       9.99990729e-001, 6.67554225e-010, 1.00000000e+000, 1.41254126e-110,\n",
       "       9.99659573e-001, 1.00000000e+000])"
      ]
     },
     "execution_count": 23,
     "metadata": {},
     "output_type": "execute_result"
    }
   ],
   "source": [
    "calc_pred_proba(W, X_st)"
   ]
  },
  {
   "cell_type": "markdown",
   "metadata": {},
   "source": [
    "####  Задание 4. \n",
    "\n",
    "Создайте функцию calc_pred, возвращающую предсказанный класс (на вход подаются W, который уже посчитан функцией eval_model и X, на выходе - массив y_pred)."
   ]
  },
  {
   "cell_type": "code",
   "execution_count": 24,
   "metadata": {
    "colab": {},
    "colab_type": "code",
    "id": "GQfE_i9rbItN"
   },
   "outputs": [],
   "source": [
    "def calc_pred(W,X, cutoff = 0.5):\n",
    "    pred = calc_pred_proba(W, X) >= cutoff\n",
    "    return pred.astype('int')\n",
    "    "
   ]
  },
  {
   "cell_type": "code",
   "execution_count": 25,
   "metadata": {
    "colab": {},
    "colab_type": "code",
    "id": "Mbwxo9NqbLJy"
   },
   "outputs": [],
   "source": [
    "y_pred = calc_pred(W, X_st)\n"
   ]
  },
  {
   "cell_type": "markdown",
   "metadata": {},
   "source": [
    "#### Задание 5 \n",
    "\n",
    "Посчитайте Accuracy, матрицу ошибок, точность и полноту, а также F1 score."
   ]
  },
  {
   "cell_type": "code",
   "execution_count": 26,
   "metadata": {},
   "outputs": [
    {
     "name": "stdout",
     "output_type": "stream",
     "text": [
      "[1 0 0 0 0 0 1 0 1 1]\n",
      "[0 0 1 0 1 0 1 0 1 1]\n"
     ]
    }
   ],
   "source": [
    "y_pred =np.array([1, 0, 0, 0, 0, 0, 1, 0, 1, 1])\n",
    "print(y_pred)\n",
    "print(y.astype('int'))"
   ]
  },
  {
   "cell_type": "code",
   "execution_count": 27,
   "metadata": {},
   "outputs": [
    {
     "data": {
      "text/plain": [
       "array([[4, 1],\n",
       "       [2, 3]], dtype=int64)"
      ]
     },
     "execution_count": 27,
     "metadata": {},
     "output_type": "execute_result"
    }
   ],
   "source": [
    "# матрица ошибок\n",
    "\n",
    "TN = ((y_pred + y) == 0).sum()\n",
    "TP = ((y_pred + y) == 2).sum()\n",
    "\n",
    "FP = (y_pred > y).sum()\n",
    "FN = (y_pred < y).sum()\n",
    "FN\n",
    "err_matrix = np.array([[TN, FP], [FN, TP]], dtype = 'int64')\n",
    "err_matrix"
   ]
  },
  {
   "cell_type": "code",
   "execution_count": 28,
   "metadata": {},
   "outputs": [
    {
     "data": {
      "text/plain": [
       "0.75"
      ]
     },
     "execution_count": 28,
     "metadata": {},
     "output_type": "execute_result"
    }
   ],
   "source": [
    "# точность \n",
    "precision = float(TP)/float(TP+FP)\n",
    "precision"
   ]
  },
  {
   "cell_type": "code",
   "execution_count": 29,
   "metadata": {},
   "outputs": [
    {
     "data": {
      "text/plain": [
       "0.6"
      ]
     },
     "execution_count": 29,
     "metadata": {},
     "output_type": "execute_result"
    }
   ],
   "source": [
    "# полнота\n",
    "recall = float(TP)/float(TP+FN)\n",
    "recall"
   ]
  },
  {
   "cell_type": "code",
   "execution_count": 30,
   "metadata": {},
   "outputs": [
    {
     "data": {
      "text/plain": [
       "0.6666666666666665"
      ]
     },
     "execution_count": 30,
     "metadata": {},
     "output_type": "execute_result"
    }
   ],
   "source": [
    "#F1 score\n",
    "F1 = 2*recall*precision/(precision+recall)\n",
    "F1"
   ]
  },
  {
   "cell_type": "code",
   "execution_count": null,
   "metadata": {},
   "outputs": [],
   "source": []
  }
 ],
 "metadata": {
  "colab": {
   "collapsed_sections": [],
   "name": "Lesson3_.ipynb",
   "provenance": []
  },
  "kernelspec": {
   "display_name": "Python 3",
   "language": "python",
   "name": "python3"
  },
  "language_info": {
   "codemirror_mode": {
    "name": "ipython",
    "version": 3
   },
   "file_extension": ".py",
   "mimetype": "text/x-python",
   "name": "python",
   "nbconvert_exporter": "python",
   "pygments_lexer": "ipython3",
   "version": "3.7.4"
  }
 },
 "nbformat": 4,
 "nbformat_minor": 1
}
