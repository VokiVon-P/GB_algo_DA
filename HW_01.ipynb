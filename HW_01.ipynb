{
 "cells": [
  {
   "cell_type": "markdown",
   "metadata": {},
   "source": [
    "### HW Урок 1 \n",
    "Алгоритм линейной регрессии. Градиентный спуск"
   ]
  },
  {
   "cell_type": "code",
   "execution_count": 29,
   "metadata": {
    "colab": {},
    "colab_type": "code",
    "id": "ak8b3KV45kVW"
   },
   "outputs": [],
   "source": [
    "import numpy as np\n",
    "import matplotlib.pyplot as plt"
   ]
  },
  {
   "cell_type": "code",
   "execution_count": 30,
   "metadata": {
    "colab": {},
    "colab_type": "code",
    "id": "i77tZbAd5plB"
   },
   "outputs": [],
   "source": [
    "X = np.array([[1, 1, 1, 1, 1, 1, 1, 1, 1, 1],\n",
    "              [1, 1, 2, 1, 3, 0, 5, 10, 1, 2]])"
   ]
  },
  {
   "cell_type": "code",
   "execution_count": 31,
   "metadata": {
    "colab": {
     "base_uri": "https://localhost:8080/",
     "height": 52
    },
    "colab_type": "code",
    "id": "U3vVuLOc6Us6",
    "outputId": "c82f208a-0d9c-460a-96c8-24ab0a036e9d"
   },
   "outputs": [
    {
     "data": {
      "text/plain": [
       "array([[ 1,  1,  1,  1,  1,  1,  1,  1,  1,  1],\n",
       "       [ 1,  1,  2,  1,  3,  0,  5, 10,  1,  2]])"
      ]
     },
     "execution_count": 31,
     "metadata": {},
     "output_type": "execute_result"
    }
   ],
   "source": [
    "X"
   ]
  },
  {
   "cell_type": "code",
   "execution_count": 32,
   "metadata": {
    "colab": {},
    "colab_type": "code",
    "id": "VsNrKi1Q6Wmh"
   },
   "outputs": [],
   "source": [
    "y = [45, 55, 50, 59, 65, 35, 75, 80, 50, 60]"
   ]
  },
  {
   "cell_type": "code",
   "execution_count": 135,
   "metadata": {
    "colab": {
     "base_uri": "https://localhost:8080/",
     "height": 283
    },
    "colab_type": "code",
    "id": "ejifaMBe6VaP",
    "outputId": "0af4e70a-5164-4c12-f35f-1c065d4b80c1"
   },
   "outputs": [
    {
     "data": {
      "text/plain": [
       "[<matplotlib.lines.Line2D at 0x1c7d79c2c48>]"
      ]
     },
     "execution_count": 135,
     "metadata": {},
     "output_type": "execute_result"
    },
    {
     "data": {
      "image/png": "[encoded data removed]",
      "text/plain": [
       "<Figure size 432x288 with 1 Axes>"
      ]
     },
     "metadata": {
      "needs_background": "light"
     },
     "output_type": "display_data"
    }
   ],
   "source": [
    "plt.scatter(X[1,:], y)\n",
    "plt.plot(X[1,:], 46.933 + 3.966*X[1,:])"
   ]
  },
  {
   "cell_type": "code",
   "execution_count": 47,
   "metadata": {
    "colab": {},
    "colab_type": "code",
    "id": "JTSC2cFnCd8T"
   },
   "outputs": [],
   "source": [
    "def calc_mse(y, y_pred):\n",
    "  err = np.mean((y - y_pred)**2)\n",
    "  return err"
   ]
  },
  {
   "cell_type": "markdown",
   "metadata": {
    "colab_type": "text",
    "id": "JAOgIXLRa--g"
   },
   "source": [
    "Градиентный спуск"
   ]
  },
  {
   "cell_type": "markdown",
   "metadata": {
    "colab_type": "text",
    "id": "huXrhXQsZTMt"
   },
   "source": [
    "1. Подберите скорость обучения (alpha) и количество итераций:\n",
    "\n",
    "**3 Задание: **\n",
    "вместо того, чтобы задавать количество итераций, задайте условие остановки алгоритма - когда ошибка за итерацию \n",
    "начинает изменяться ниже определенного порога (упрощенный аналог параметра tol в линейной регрессии в sklearn)."
   ]
  },
  {
   "cell_type": "code",
   "execution_count": 101,
   "metadata": {
    "colab": {
     "base_uri": "https://localhost:8080/",
     "height": 34
    },
    "colab_type": "code",
    "id": "VEXjDozNHdAo",
    "outputId": "7d12bb79-21b7-43fb-fd8e-d116a2af3bb7"
   },
   "outputs": [
    {
     "data": {
      "text/plain": [
       "((2,), (2, 10), array([1. , 0.5]), 0.0001)"
      ]
     },
     "execution_count": 101,
     "metadata": {},
     "output_type": "execute_result"
    }
   ],
   "source": [
    "tall = 1e-5\n",
    "n = X.shape[1]\n",
    "alpha = 1e-4\n",
    "W = np.array([1, 0.5])\n",
    "W.shape, X.shape, W, alpha"
   ]
  },
  {
   "cell_type": "code",
   "execution_count": 102,
   "metadata": {
    "colab": {
     "base_uri": "https://localhost:8080/",
     "height": 185
    },
    "colab_type": "code",
    "id": "IDB22MQKMYaJ",
    "outputId": "4c03219e-a57c-4583-f439-6699fd0619bb"
   },
   "outputs": [
    {
     "name": "stdout",
     "output_type": "stream",
     "text": [
      "0 [1.01102 0.534  ] 3173.15 3173.15\n",
      "1000 [ 7.38906894 10.68706909] 900.0794345405571 0.20662798291050422\n",
      "2000 [11.41239979 10.49676806] 735.6901949760081 0.14352954557023168\n",
      "3000 [14.95426267  9.86968976] 606.1685205795002 0.11652176410837001\n",
      "4000 [18.14222899  9.28232201] 500.9761357445739 0.09464279597796121\n",
      "5000 [21.01515239  8.75187884] 415.53533144871926 0.0768720923107935\n",
      "6000 [23.60433677  8.27376927] 346.1374089768893 0.062438123686604285\n",
      "7000 [25.93781343  7.8428751 ] 289.770059830036 0.05071436424276499\n",
      "8000 [28.04083646  7.45453582] 243.9865848111653 0.04119192872369126\n",
      "9000 [29.93616542  7.10454883] 206.79969175109696 0.03345748324605324\n",
      "10000 [31.64431213  6.78912647] 176.59523446839947 0.027175303993800526\n",
      "11000 [33.18376267  6.50485515] 152.06214862364686 0.02207270468377942\n",
      "12000 [34.57117743  6.2486584 ] 132.13554324111018 0.01792820025752917\n",
      "13000 [35.82157143  6.01776359] 115.95047771025502 0.014561893029281237\n",
      "14000 [36.94847681  5.80967189] 102.8044178967979 0.011827663990260362\n",
      "15000 [37.96408928  5.62213128] 92.12674172121734 0.009606830319881965\n",
      "16000 [38.8794001   5.45311213] 83.45397055415961 0.007802993800765989\n",
      "17000 [39.70431503  5.30078528] 76.40965131472 0.006337856527906638\n",
      "18000 [40.44776156  5.16350219] 70.68801602753328 0.005147822283859682\n",
      "19000 [41.11778548  5.03977715] 66.04070956017475 0.004181236061299387\n",
      "20000 [41.72163799  4.92827116] 62.26600944080188 0.003396141909377093\n",
      "21000 [42.26585417  4.82777748] 59.200069827981494 0.002758461780132393\n",
      "22000 [42.75632369  4.73720853] 56.709809565657416 0.002240516325755948\n",
      "23000 [43.19835455  4.65558415] 54.68713561990321 0.0018198234400301772\n",
      "24000 [43.59673054  4.58202098] 53.04425115809348 0.0014781223929318799\n",
      "25000 [43.95576302  4.51572289] 51.7098446114915 0.0012005811995194904\n",
      "26000 [44.27933753  4.45597238] 50.62599430247339 0.0009751528178369995\n",
      "27000 [44.5709559   4.40212281] 49.74565427765066 0.000792052231560092\n",
      "28000 [44.8337741   4.35359142] 49.03061221616227 0.0006433317177965137\n",
      "29000 [45.07063644  4.30985298] 48.449830773446266 0.0005225358665654767\n",
      "30000 [45.28410632  4.27043414] 47.97810036432719 0.0004244213743191949\n",
      "31000 [45.47649395  4.23490829] 47.594944907694035 0.00034472945210239914\n",
      "32000 [45.64988143  4.20289096] 47.283733035171785 0.00028000096683911124\n",
      "33000 [45.8061452   4.17403566] 47.030956184621665 0.00022742629315075646\n",
      "34000 [45.9469764  4.1480301] 46.825642243170414 0.00018472335788999317\n",
      "35000 [46.07389914  4.12459285] 46.658879288166574 0.00015003858387530045\n",
      "36000 [46.18828702  4.10347025] 46.523428753414635 0.00012186643260747587\n",
      "37000 [46.29137798  4.08443372] 46.41341122965379 9.898405471631122e-05\n",
      "38000 [46.3842877   4.06727723] 46.3240512610374 8.039821040028983e-05\n",
      "39000 [46.46802168  4.05181511] 46.25147006016929 6.530215654265703e-05\n",
      "40000 [46.54348611  4.03788002] 46.192517144215635 5.304062899114115e-05\n",
      "41000 [46.61149769  4.02532116] 46.144633584039255 4.308139994435578e-05\n",
      "42000 [46.67279246  4.01400262] 46.10574093050256 3.499217594082893e-05\n",
      "43000 [46.72803378  4.00380188] 46.07415099663893 2.8421833533798235e-05\n",
      "44000 [46.77781947  3.99460857] 46.04849257966917 2.308517828453205e-05\n",
      "45000 [46.82268834  3.98632319] 46.02765194213451 1.8750565686787013e-05\n",
      "46000 [46.86312598  3.97885608] 46.01072446865233 1.522984613444578e-05\n",
      "47000 [46.89957     3.97212641] 45.99697539989117 1.237019820621299e-05\n",
      "48000 [46.93241482  3.96606136] 45.985807939372165 1.0047495038634224e-05\n",
      "48023 [46.9330997   3.96593489] 45.985577422762795 9.999550236727828e-06\n"
     ]
    }
   ],
   "source": [
    "prev_err = 0\n",
    "for i in range(100000):\n",
    "    y_pred = np.dot(W, X)\n",
    "    err = calc_mse(y, y_pred)\n",
    "    \n",
    "    # расчет дельты между предыдущей и текущей ошибкой\n",
    "    delta = np.abs(prev_err - err)\n",
    "    # прерываемся при достижении пороговой дельты\n",
    "    if delta <= tall:\n",
    "        print(i, W, err, delta)\n",
    "        break\n",
    "    else:\n",
    "        prev_err = err\n",
    "        \n",
    "    for ii in range(W.shape[0]):\n",
    "        W[ii] -= alpha * (1/n * 2 * np.sum(X[ii] * (y_pred - y)))\n",
    "        \n",
    "    if i % 1000 == 0:\n",
    "        print(i, W, err, delta)"
   ]
  },
  {
   "cell_type": "markdown",
   "metadata": {
    "colab_type": "text",
    "id": "5Qu1o4JhZYwI"
   },
   "source": [
    "*2. В этом коде мы избавляемся от итераций по весам, но тут есть ошибка, исправьте ее:"
   ]
  },
  {
   "cell_type": "code",
   "execution_count": 133,
   "metadata": {
    "colab": {
     "base_uri": "https://localhost:8080/",
     "height": 34
    },
    "colab_type": "code",
    "id": "VEXjDozNHdAo",
    "outputId": "7d12bb79-21b7-43fb-fd8e-d116a2af3bb7"
   },
   "outputs": [
    {
     "data": {
      "text/plain": [
       "((2,), (2, 10), array([1. , 0.5]), 0.0001)"
      ]
     },
     "execution_count": 133,
     "metadata": {},
     "output_type": "execute_result"
    }
   ],
   "source": [
    "tall = 1e-5\n",
    "n = X.shape[1]\n",
    "alpha = 1e-4\n",
    "W = np.array([1, 0.5])\n",
    "W.shape, X.shape, W, alpha"
   ]
  },
  {
   "cell_type": "code",
   "execution_count": 134,
   "metadata": {
    "colab": {
     "base_uri": "https://localhost:8080/",
     "height": 185
    },
    "colab_type": "code",
    "id": "WZZzDCQLY4pA",
    "outputId": "28f58ade-72f2-4381-809d-2417752d56e4"
   },
   "outputs": [
    {
     "name": "stdout",
     "output_type": "stream",
     "text": [
      "0 [1.01102 0.534  ] 3173.15\n",
      "1000 [ 7.38906894 10.68706909] 900.0794345405571\n",
      "2000 [11.41239979 10.49676806] 735.6901949760081\n",
      "3000 [14.95426267  9.86968976] 606.1685205795002\n",
      "4000 [18.14222899  9.28232201] 500.9761357445739\n",
      "5000 [21.01515239  8.75187884] 415.53533144871926\n",
      "6000 [23.60433677  8.27376927] 346.1374089768893\n",
      "7000 [25.93781343  7.8428751 ] 289.770059830036\n",
      "8000 [28.04083646  7.45453582] 243.9865848111653\n",
      "9000 [29.93616542  7.10454883] 206.79969175109696\n",
      "10000 [31.64431213  6.78912647] 176.59523446839947\n",
      "11000 [33.18376267  6.50485515] 152.06214862364686\n",
      "12000 [34.57117743  6.2486584 ] 132.13554324111018\n",
      "13000 [35.82157143  6.01776359] 115.95047771025502\n",
      "14000 [36.94847681  5.80967189] 102.8044178967979\n",
      "15000 [37.96408928  5.62213128] 92.12674172121734\n",
      "16000 [38.8794001   5.45311213] 83.45397055415961\n",
      "17000 [39.70431503  5.30078528] 76.40965131472\n",
      "18000 [40.44776156  5.16350219] 70.68801602753328\n",
      "19000 [41.11778548  5.03977715] 66.04070956017475\n",
      "20000 [41.72163799  4.92827116] 62.26600944080188\n",
      "21000 [42.26585417  4.82777748] 59.200069827981494\n",
      "22000 [42.75632369  4.73720853] 56.709809565657416\n",
      "23000 [43.19835455  4.65558415] 54.68713561990321\n",
      "24000 [43.59673054  4.58202098] 53.04425115809348\n",
      "25000 [43.95576302  4.51572289] 51.7098446114915\n",
      "26000 [44.27933753  4.45597238] 50.62599430247339\n",
      "27000 [44.5709559   4.40212281] 49.74565427765066\n",
      "28000 [44.8337741   4.35359142] 49.03061221616227\n",
      "29000 [45.07063644  4.30985298] 48.449830773446266\n",
      "30000 [45.28410632  4.27043414] 47.97810036432719\n",
      "31000 [45.47649395  4.23490829] 47.594944907694035\n",
      "32000 [45.64988143  4.20289096] 47.283733035171785\n",
      "33000 [45.8061452   4.17403566] 47.030956184621665\n",
      "34000 [45.9469764  4.1480301] 46.825642243170414\n",
      "35000 [46.07389914  4.12459285] 46.658879288166574\n",
      "36000 [46.18828702  4.10347025] 46.523428753414635\n",
      "37000 [46.29137798  4.08443372] 46.41341122965379\n",
      "38000 [46.3842877   4.06727723] 46.3240512610374\n",
      "39000 [46.46802168  4.05181511] 46.25147006016929\n",
      "40000 [46.54348611  4.03788002] 46.192517144215635\n",
      "41000 [46.61149769  4.02532116] 46.144633584039255\n",
      "42000 [46.67279246  4.01400262] 46.10574093050256\n",
      "43000 [46.72803378  4.00380188] 46.07415099663893\n",
      "44000 [46.77781947  3.99460857] 46.04849257966917\n",
      "45000 [46.82268834  3.98632319] 46.02765194213451\n",
      "46000 [46.86312598  3.97885608] 46.01072446865233\n",
      "47000 [46.89957     3.97212641] 45.99697539989117\n",
      "48000 [46.93241482  3.96606136] 45.985807939372165\n",
      "48023 [46.9330997   3.96593489] 45.985577422762795 9.999550236727828e-06\n"
     ]
    }
   ],
   "source": [
    "for i in range(50000):\n",
    "    y_pred = np.dot(W, X)\n",
    "    err = calc_mse(y, y_pred)\n",
    "\n",
    "    '''for ii in range(W.shape[0]):\n",
    "    W[ii] -= alpha * (1/n * 2 * np.sum(X[ii] * (y_pred - y)))'''\n",
    "    # добавим параметр в np.sum для сложения по осям для соблюдения размерности\n",
    "    D = (alpha * (1/n * 2 * np.sum(X * (y_pred - y), axis = 1)))  \n",
    "    \n",
    "    # расчет дельты между предыдущей и текущей ошибкой\n",
    "    delta = np.abs(prev_err - err)\n",
    "    # прерываемся при достижении пороговой дельты\n",
    "    if delta <= tall:\n",
    "        print(i, W, err, delta)\n",
    "        break\n",
    "        \n",
    "    prev_err = err\n",
    "    # -------------------------------------------\n",
    "    \n",
    "    W -= D\n",
    "    if i % 1000 == 0:\n",
    "        print(i, W, err)"
   ]
  },
  {
   "cell_type": "code",
   "execution_count": 0,
   "metadata": {
    "colab": {},
    "colab_type": "code",
    "id": "_OQ4arrXMYGb"
   },
   "outputs": [],
   "source": []
  },
  {
   "cell_type": "code",
   "execution_count": 0,
   "metadata": {
    "colab": {},
    "colab_type": "code",
    "id": "kGLyytFgHdco"
   },
   "outputs": [],
   "source": []
  }
 ],
 "metadata": {
  "colab": {
   "collapsed_sections": [],
   "name": "Lesson1.ipynb",
   "provenance": []
  },
  "kernelspec": {
   "display_name": "Python 3",
   "language": "python",
   "name": "python3"
  },
  "language_info": {
   "codemirror_mode": {
    "name": "ipython",
    "version": 3
   },
   "file_extension": ".py",
   "mimetype": "text/x-python",
   "name": "python",
   "nbconvert_exporter": "python",
   "pygments_lexer": "ipython3",
   "version": "3.7.5"
  }
 },
 "nbformat": 4,
 "nbformat_minor": 1
}
